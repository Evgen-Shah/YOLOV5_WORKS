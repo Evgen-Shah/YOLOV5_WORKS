{
  "nbformat": 4,
  "nbformat_minor": 0,
  "metadata": {
    "colab": {
      "name": "Untitled0.ipynb",
      "provenance": [],
      "collapsed_sections": [],
      "include_colab_link": true
    },
    "kernelspec": {
      "name": "python3",
      "display_name": "Python 3"
    },
    "language_info": {
      "name": "python"
    },
    "accelerator": "GPU"
  },
  "cells": [
    {
      "cell_type": "markdown",
      "metadata": {
        "id": "view-in-github",
        "colab_type": "text"
      },
      "source": [
        "<a href=\"https://colab.research.google.com/github/Evgen-Shah/YOLOV5_WORKS/blob/main/DetectCard.ipynb\" target=\"_parent\"><img src=\"https://colab.research.google.com/assets/colab-badge.svg\" alt=\"Open In Colab\"/></a>"
      ]
    },
    {
      "cell_type": "code",
      "execution_count": null,
      "metadata": {
        "id": "5VPBXoI0CyDH"
      },
      "outputs": [],
      "source": [
        "import imutils\n",
        "from google.colab import drive\n",
        "drive.mount('/content/drive')\n",
        "from google.colab import files\n",
        "from IPython.display import display\n",
        "import cv2\n",
        "from PIL import Image\n",
        "from io import BytesIO\n",
        "from PIL import Image\n",
        "import numpy as np\n",
        "import requests\n",
        "from google.colab.patches import cv2_imshow\n",
        "\n"
      ]
    },
    {
      "cell_type": "code",
      "source": [
        "!python /content/drive/MyDrive/contentCard/yolov5/train.py --img 640 --batch 16 --epochs 200 --data /content/drive/MyDrive/contentCard/yolov5/data/custom_date.yaml --weights /content/drive/MyDrive/contentCard/yolov5/yolov5s.pt --cache"
      ],
      "metadata": {
        "id": "tS28gsLRDq_a"
      },
      "execution_count": null,
      "outputs": []
    },
    {
      "cell_type": "code",
      "source": [
        "ai = Image.open(\"/content/drive/MyDrive/contentCard/yolov5/runs/train/exp9/train_batch0.jpg\")\n",
        "display(ai)\n",
        "ai = Image.open(\"/content/drive/MyDrive/contentCard/yolov5/runs/train/exp9/train_batch1.jpg\")\n",
        "display(ai)\n",
        "ai = Image.open(\"/content/drive/MyDrive/contentCard/yolov5/runs/train/exp9/train_batch2.jpg\")\n",
        "display(ai)\n",
        "\n"
      ],
      "metadata": {
        "id": "xjGD5pvWQIvj"
      },
      "execution_count": null,
      "outputs": []
    },
    {
      "cell_type": "code",
      "source": [
        "!python /content/drive/MyDrive/contentCard/yolov5/detect.py --weights /content/drive/MyDrive/contentCard/yolov5/runs/train/exp9/weights/last.pt --img 640 --conf 0.5 --source /content/drive/MyDrive/contentCard/yolov5/data/images --save-txt \n"
      ],
      "metadata": {
        "id": "qHXMeSeDDv9H"
      },
      "execution_count": null,
      "outputs": []
    },
    {
      "cell_type": "markdown",
      "source": [
        "Имя карты NX\n",
        "\n",
        "Где N - номер или имя карты \n",
        "\n",
        "X - масть карты на англиском (H - Черви, S - Пики, D - Бубны, C - Трефы)"
      ],
      "metadata": {
        "id": "Us3sRsM_TchR"
      }
    },
    {
      "cell_type": "code",
      "source": [
        "import os.path\n",
        "path=\"/content/drive/MyDrive/contentCard/yolov5/runs/detect/exp2\"\n",
        "for i in range (1,14):\n",
        "  image = Image.open(path+'/'+str(i)+'.jpg')\n",
        "  image = np.array(image)\n",
        "  image = cv2.cvtColor(image,cv2.COLOR_BGR2RGB)\n",
        "  cv2_imshow(image)"
      ],
      "metadata": {
        "id": "Pujd-UZWRW2Z"
      },
      "execution_count": null,
      "outputs": []
    }
  ]
}